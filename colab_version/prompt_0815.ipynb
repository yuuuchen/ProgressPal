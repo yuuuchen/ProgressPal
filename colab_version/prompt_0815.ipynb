{
  "nbformat": 4,
  "nbformat_minor": 0,
  "metadata": {
    "colab": {
      "provenance": [],
      "include_colab_link": true
    },
    "kernelspec": {
      "name": "python3",
      "display_name": "Python 3"
    },
    "language_info": {
      "name": "python"
    }
  },
  "cells": [
    {
      "cell_type": "markdown",
      "metadata": {
        "id": "view-in-github",
        "colab_type": "text"
      },
      "source": [
        "<a href=\"https://colab.research.google.com/github/yuuuchen/ProgressPal/blob/main/prompt_0815.ipynb\" target=\"_parent\"><img src=\"https://colab.research.google.com/assets/colab-badge.svg\" alt=\"Open In Colab\"/></a>"
      ]
    },
    {
      "cell_type": "code",
      "source": [
        "!git clone https://github.com/yuuuchen/ProgressPal.git\n",
        "%cd ProgressPal"
      ],
      "metadata": {
        "id": "pSPXYmcwg2JZ"
      },
      "execution_count": null,
      "outputs": []
    },
    {
      "cell_type": "markdown",
      "source": [
        "Prompt 模板庫（Template Library）"
      ],
      "metadata": {
        "id": "u6gpy-Gn1vMi"
      }
    },
    {
      "cell_type": "code",
      "execution_count": null,
      "metadata": {
        "id": "o0wwj1_J46M0"
      },
      "outputs": [],
      "source": [
        "# 全域模板庫\n",
        "'''\n",
        "simple：(精簡)一句話指令，直接用三個欄位填入\n",
        "structured：(分段式)角色設定 + 背景 + 限制\n",
        "dialogue:(對話式)模擬師生對話\n",
        "example_driven：(範例驅動)提供回答範例\n",
        "\n",
        "# 要加入 請以自然語言輸出，避免使用 Markdown、項目符號或表格，直接用完整句子表達。\n",
        "# 請用 5 句話以內完成回答。\n",
        "\n",
        "'''\n",
        "\n",
        "PROMPT_TEMPLATES = {\n",
        "    \"simple\": \"\"\"你是一位{tone}的資料結構助教。\n",
        "請用{style}方式，面對一位感到{emotion}的學生，\n",
        "回答以下問題：{question}\n",
        "請根據以下教材回答，避免超出範圍：\n",
        "{materials}\n",
        "\"\"\",\n",
        "\n",
        "    \"structured\": \"\"\"[角色設定]\n",
        "你是一位{tone}的資料結構助教。\n",
        "\n",
        "[任務]\n",
        "面對一位感到{emotion}的學生，請用{style}方式，\n",
        "協助解答以下問題，並確保依據教材內容。\n",
        "\n",
        "[學生問題]\n",
        "{question}\n",
        "\n",
        "[教材]\n",
        "{materials}\n",
        "\n",
        "[回答限制]\n",
        "1. 不要超出教材內容\n",
        "2. 使用貼合情緒的語氣\n",
        "\"\"\",\n",
        "\n",
        "    \"dialogue\": \"\"\"以下是你與一位學生的對話：\n",
        "學生（感到{emotion}）: {question}\n",
        "助教（{tone}，採用{style}）:\n",
        "請根據以下教材回應學生：\n",
        "{materials}\n",
        "\"\"\",\n",
        "\n",
        "    \"example_driven\": \"\"\"你是一位{tone}的資料結構助教，擅長用{style}方式解釋。\n",
        "請回答感到{emotion}的學生的問題：{question}\n",
        "請根據以下教材回答，並至少提供一個具體例子：\n",
        "{materials}\n",
        "\"\"\"\n",
        "}\n",
        "\n",
        "CURRENT_PROMPT_MODE = \"simple\""
      ]
    },
    {
      "cell_type": "code",
      "source": [
        "# 映射方法：情緒 → 語氣 + 教學策略\n",
        "def map_emotion_to_profile(emotion):\n",
        "  mapping = {\n",
        "      \"frustrated\": {\"tone\": \"溫暖且安撫\", \"style\": \"循序漸進、拆解問題\"},\n",
        "      \"confused\": {\"tone\": \"溫和且耐心\", \"style\": \"舉例對照、比喻解釋\"},\n",
        "      \"bored\": {\"tone\": \"活潑且有趣\", \"style\": \"加入情境化案例、互動提問\"},\n",
        "      \"engaged\": {\"tone\": \"積極且肯定\", \"style\": \"深入探討、引導延伸思考\"},\n",
        "      \"surprised\": {\"tone\": \"熱情且鼓勵\", \"style\": \"延伸趣味點、引入新視角\"},\n",
        "      \"joyful\": {\"tone\": \"輕鬆且正向\", \"style\": \"融入挑戰題、鼓勵自我探索\"},\n",
        "  }\n",
        "  return mapping.get(emotion, {\"tone\": \"中性\", \"style\": \"一般解釋\"})\n",
        "\n",
        "# 主方法：Prompt 生成方法\n",
        "def generate_prompt(emotion, question, materials):\n",
        "  learner_profile = map_emotion_to_profile(emotion)  # 情緒解析層\n",
        "\n",
        "  materials_text = \"\\n\".join(f\"{i+1}. {m}\" for i, m in enumerate(materials))\n",
        "\n",
        "  # 使用模板組合 Prompt\n",
        "  template = PROMPT_TEMPLATES[CURRENT_PROMPT_MODE]\n",
        "  prompt_text = template.format(\n",
        "      tone=learner_profile[\"tone\"],\n",
        "      style=learner_profile[\"style\"],\n",
        "      emotion=emotion,\n",
        "      question=question,\n",
        "      materials=materials_text\n",
        "  )\n",
        "\n",
        "  output_format_hint = \"以自然語言分段回答，語氣溫暖、易於理解，最後總結困惑點，避免使用 Markdown 或表格，限制在150字以內\"\n",
        "  return f\"{prompt_text.strip()}\\n\\n請注意輸出格式：{output_format_hint}\""
      ],
      "metadata": {
        "id": "CEoY6LON162P"
      },
      "execution_count": null,
      "outputs": []
    },
    {
      "cell_type": "markdown",
      "source": [
        "使用範例："
      ],
      "metadata": {
        "id": "AOnSoo3A6ALe"
      }
    },
    {
      "cell_type": "code",
      "source": [
        "test_input = {\n",
        "  \"emotion\": \"confused\",\n",
        "  \"question\": \"linked list 和 array 差在哪裡？\",\n",
        "  \"materials\": [\n",
        "      \"Linked List 是由節點組成，每個節點包含資料與指向下一個節點的指標。\",\n",
        "      \"Array 的記憶體分配是連續的，存取速度快，但插入與刪除成本高。\"\n",
        "  ]\n",
        "}\n",
        "result = generate_prompt(\n",
        "    emotion=test_input[\"emotion\"],\n",
        "    question=test_input[\"question\"],\n",
        "    materials=test_input[\"materials\"]\n",
        ")\n",
        "\n",
        "print(\"=== Prompt Text ===\")\n",
        "print(result)"
      ],
      "metadata": {
        "colab": {
          "base_uri": "https://localhost:8080/"
        },
        "id": "zdgBQgQ94hzI",
        "outputId": "1175aea7-17e9-4ebe-e091-83f4fdb6b437"
      },
      "execution_count": null,
      "outputs": [
        {
          "output_type": "stream",
          "name": "stdout",
          "text": [
            "=== Prompt Text ===\n",
            "你是一位溫和且耐心的資料結構助教。\n",
            "請用舉例對照、比喻解釋方式，面對一位感到confused的學生，\n",
            "回答以下問題：linked list 和 array 差在哪裡？\n",
            "請根據以下教材回答，避免超出範圍：\n",
            "1. Linked List 是由節點組成，每個節點包含資料與指向下一個節點的指標。\n",
            "2. Array 的記憶體分配是連續的，存取速度快，但插入與刪除成本高。\n",
            "\n",
            "請注意輸出格式：以自然語言分段回答，語氣溫暖、易於理解，最後總結困惑點，避免使用 Markdown 或表格，限制在150字以內\n"
          ]
        }
      ]
    },
    {
      "cell_type": "markdown",
      "source": [
        "找最佳prompt結構"
      ],
      "metadata": {
        "id": "nSBsec0iQ0D7"
      }
    },
    {
      "cell_type": "code",
      "source": [
        "test_input = {\n",
        "  \"emotion\": \"confused\",\n",
        "  \"question\": \"linked list 和 array 差在哪裡？\",\n",
        "  \"materials\": [\n",
        "      \"Linked List 是由節點組成，每個節點包含資料與指向下一個節點的指標。\",\n",
        "      \"Array 的記憶體分配是連續的，存取速度快，但插入與刪除成本高。\"\n",
        "  ]\n",
        "}\n",
        "for i in PROMPT_TEMPLATES.keys():\n",
        "  CURRENT_PROMPT_MODE = i\n",
        "  result = generate_prompt(\n",
        "      emotion=test_input[\"emotion\"],\n",
        "      question=test_input[\"question\"],\n",
        "      materials=test_input[\"materials\"]\n",
        "  )\n",
        "  print(f\"=== Mode：{i} ===\")\n",
        "  print(result)\n",
        "  print(\"\\n\")"
      ],
      "metadata": {
        "colab": {
          "base_uri": "https://localhost:8080/"
        },
        "id": "WEgNAipsQ3yL",
        "outputId": "478d54ba-913b-41ee-98d7-140151f2fef4"
      },
      "execution_count": null,
      "outputs": [
        {
          "output_type": "stream",
          "name": "stdout",
          "text": [
            "=== Mode：simple ===\n",
            "你是一位溫和且耐心的資料結構助教。\n",
            "請用舉例對照、比喻解釋方式，面對一位感到confused的學生，\n",
            "回答以下問題：linked list 和 array 差在哪裡？\n",
            "請根據以下教材回答，避免超出範圍：\n",
            "1. Linked List 是由節點組成，每個節點包含資料與指向下一個節點的指標。\n",
            "2. Array 的記憶體分配是連續的，存取速度快，但插入與刪除成本高。\n",
            "\n",
            "請注意輸出格式：以自然語言分段回答，語氣溫暖、易於理解，最後總結困惑點，避免使用 Markdown 或表格，限制在150字以內\n",
            "\n",
            "\n",
            "=== Mode：structured ===\n",
            "[角色設定]\n",
            "你是一位溫和且耐心的資料結構助教。\n",
            "\n",
            "[任務]\n",
            "面對一位感到confused的學生，請用舉例對照、比喻解釋方式，\n",
            "協助解答以下問題，並確保依據教材內容。\n",
            "\n",
            "[學生問題]\n",
            "linked list 和 array 差在哪裡？\n",
            "\n",
            "[教材]\n",
            "1. Linked List 是由節點組成，每個節點包含資料與指向下一個節點的指標。\n",
            "2. Array 的記憶體分配是連續的，存取速度快，但插入與刪除成本高。\n",
            "\n",
            "[回答限制]\n",
            "1. 不要超出教材內容\n",
            "2. 使用貼合情緒的語氣\n",
            "\n",
            "請注意輸出格式：以自然語言分段回答，語氣溫暖、易於理解，最後總結困惑點，避免使用 Markdown 或表格，限制在150字以內\n",
            "\n",
            "\n",
            "=== Mode：dialogue ===\n",
            "以下是你與一位學生的對話：\n",
            "學生（感到confused）: linked list 和 array 差在哪裡？\n",
            "助教（溫和且耐心，採用舉例對照、比喻解釋）:\n",
            "請根據以下教材回應學生：\n",
            "1. Linked List 是由節點組成，每個節點包含資料與指向下一個節點的指標。\n",
            "2. Array 的記憶體分配是連續的，存取速度快，但插入與刪除成本高。\n",
            "\n",
            "請注意輸出格式：以自然語言分段回答，語氣溫暖、易於理解，最後總結困惑點，避免使用 Markdown 或表格，限制在150字以內\n",
            "\n",
            "\n",
            "=== Mode：example_driven ===\n",
            "你是一位溫和且耐心的資料結構助教，擅長用舉例對照、比喻解釋方式解釋。\n",
            "請回答感到confused的學生的問題：linked list 和 array 差在哪裡？\n",
            "請根據以下教材回答，並至少提供一個具體例子：\n",
            "1. Linked List 是由節點組成，每個節點包含資料與指向下一個節點的指標。\n",
            "2. Array 的記憶體分配是連續的，存取速度快，但插入與刪除成本高。\n",
            "\n",
            "請注意輸出格式：以自然語言分段回答，語氣溫暖、易於理解，最後總結困惑點，避免使用 Markdown 或表格，限制在150字以內\n",
            "\n",
            "\n"
          ]
        }
      ]
    }
  ]
}